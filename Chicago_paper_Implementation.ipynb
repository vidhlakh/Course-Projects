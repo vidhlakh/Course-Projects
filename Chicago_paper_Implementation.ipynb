{
 "cells": [
  {
   "cell_type": "code",
   "execution_count": 78,
   "metadata": {},
   "outputs": [],
   "source": [
    "import numpy as np\n",
    "import matplotlib.pyplot as plt\n",
    "import pandas as pd\n",
    "import math\n",
    "%matplotlib inline\n",
    "from matplotlib.pylab import rcParams\n",
    "from sklearn.metrics.pairwise import manhattan_distances\n",
    "from scipy.spatial import distance"
   ]
  },
  {
   "cell_type": "code",
   "execution_count": 79,
   "metadata": {},
   "outputs": [],
   "source": [
    "#Quarter 1 and 2\n",
    "stations_2014_Q1_2 = pd.read_csv('Datasets/Divvy_Stations_Trips_2014_Q1Q2//Divvy_Stations_2014-Q1Q2.csv')\n",
    "dataset_2014_Q1_2 = pd.read_csv('Datasets/Divvy_Stations_Trips_2014_Q1Q2/Divvy_Trips_2014_Q1Q2.csv')\n",
    "#Quarter 3 \n",
    "stations_2014_Q3_4  = pd.read_csv('Datasets/Divvy_Stations_Trips_2014_Q3Q4/Divvy_Stations_2014-Q3Q4.csv')\n",
    "dataset_2014_07  = pd.read_csv('Datasets/Divvy_Stations_Trips_2014_Q3Q4/Divvy_Trips_2014-Q3-07.csv')\n",
    "dataset_2014_08_09  = pd.read_csv('Datasets/Divvy_Stations_Trips_2014_Q3Q4/Divvy_Trips_2014-Q3-0809.csv')\n",
    "dataset_2014_Q3 = pd.concat([dataset_2014_07, dataset_2014_08_09])\n",
    "#Quarter 4 \n",
    "dataset_2014_Q4 = pd.read_csv('Datasets/Divvy_Stations_Trips_2014_Q3Q4/Divvy_Trips_2014-Q4.csv')"
   ]
  },
  {
   "cell_type": "code",
   "execution_count": 80,
   "metadata": {},
   "outputs": [],
   "source": [
    "dataset_2014_full=pd.concat([dataset_2014_Q1_2,dataset_2014_Q3,dataset_2014_Q4])\n",
    "dataset_2014 = dataset_2014_full[:1000]"
   ]
  },
  {
   "cell_type": "code",
   "execution_count": 81,
   "metadata": {},
   "outputs": [
    {
     "data": {
      "text/html": [
       "<div>\n",
       "<style scoped>\n",
       "    .dataframe tbody tr th:only-of-type {\n",
       "        vertical-align: middle;\n",
       "    }\n",
       "\n",
       "    .dataframe tbody tr th {\n",
       "        vertical-align: top;\n",
       "    }\n",
       "\n",
       "    .dataframe thead th {\n",
       "        text-align: right;\n",
       "    }\n",
       "</style>\n",
       "<table border=\"1\" class=\"dataframe\">\n",
       "  <thead>\n",
       "    <tr style=\"text-align: right;\">\n",
       "      <th></th>\n",
       "      <th>trip_id</th>\n",
       "      <th>starttime</th>\n",
       "      <th>stoptime</th>\n",
       "      <th>bikeid</th>\n",
       "      <th>tripduration</th>\n",
       "      <th>from_station_id</th>\n",
       "      <th>from_station_name</th>\n",
       "      <th>to_station_id</th>\n",
       "      <th>to_station_name</th>\n",
       "      <th>usertype</th>\n",
       "      <th>gender</th>\n",
       "      <th>birthyear</th>\n",
       "    </tr>\n",
       "  </thead>\n",
       "  <tbody>\n",
       "    <tr>\n",
       "      <th>0</th>\n",
       "      <td>2355134</td>\n",
       "      <td>6/30/2014 23:57</td>\n",
       "      <td>7/1/2014 0:07</td>\n",
       "      <td>2006</td>\n",
       "      <td>604</td>\n",
       "      <td>131</td>\n",
       "      <td>Lincoln Ave &amp; Belmont Ave</td>\n",
       "      <td>303</td>\n",
       "      <td>Broadway &amp; Cornelia Ave</td>\n",
       "      <td>Subscriber</td>\n",
       "      <td>Male</td>\n",
       "      <td>1988.0</td>\n",
       "    </tr>\n",
       "    <tr>\n",
       "      <th>1</th>\n",
       "      <td>2355133</td>\n",
       "      <td>6/30/2014 23:56</td>\n",
       "      <td>7/1/2014 0:00</td>\n",
       "      <td>2217</td>\n",
       "      <td>263</td>\n",
       "      <td>282</td>\n",
       "      <td>Halsted St &amp; Maxwell St</td>\n",
       "      <td>22</td>\n",
       "      <td>May St &amp; Taylor St</td>\n",
       "      <td>Subscriber</td>\n",
       "      <td>Male</td>\n",
       "      <td>1992.0</td>\n",
       "    </tr>\n",
       "    <tr>\n",
       "      <th>2</th>\n",
       "      <td>2355130</td>\n",
       "      <td>6/30/2014 23:33</td>\n",
       "      <td>6/30/2014 23:35</td>\n",
       "      <td>2798</td>\n",
       "      <td>126</td>\n",
       "      <td>327</td>\n",
       "      <td>Sheffield Ave &amp; Webster Ave</td>\n",
       "      <td>225</td>\n",
       "      <td>Halsted St &amp; Dickens Ave</td>\n",
       "      <td>Subscriber</td>\n",
       "      <td>Male</td>\n",
       "      <td>1993.0</td>\n",
       "    </tr>\n",
       "    <tr>\n",
       "      <th>3</th>\n",
       "      <td>2355129</td>\n",
       "      <td>6/30/2014 23:26</td>\n",
       "      <td>7/1/2014 0:24</td>\n",
       "      <td>173</td>\n",
       "      <td>3481</td>\n",
       "      <td>134</td>\n",
       "      <td>Peoria St &amp; Jackson Blvd</td>\n",
       "      <td>194</td>\n",
       "      <td>State St &amp; Wacker Dr</td>\n",
       "      <td>Subscriber</td>\n",
       "      <td>Female</td>\n",
       "      <td>1988.0</td>\n",
       "    </tr>\n",
       "    <tr>\n",
       "      <th>4</th>\n",
       "      <td>2355128</td>\n",
       "      <td>6/30/2014 23:16</td>\n",
       "      <td>6/30/2014 23:26</td>\n",
       "      <td>173</td>\n",
       "      <td>638</td>\n",
       "      <td>320</td>\n",
       "      <td>Loomis St &amp; Lexington St</td>\n",
       "      <td>134</td>\n",
       "      <td>Peoria St &amp; Jackson Blvd</td>\n",
       "      <td>Subscriber</td>\n",
       "      <td>Female</td>\n",
       "      <td>1988.0</td>\n",
       "    </tr>\n",
       "  </tbody>\n",
       "</table>\n",
       "</div>"
      ],
      "text/plain": [
       "   trip_id        starttime         stoptime  bikeid  tripduration  \\\n",
       "0  2355134  6/30/2014 23:57    7/1/2014 0:07    2006           604   \n",
       "1  2355133  6/30/2014 23:56    7/1/2014 0:00    2217           263   \n",
       "2  2355130  6/30/2014 23:33  6/30/2014 23:35    2798           126   \n",
       "3  2355129  6/30/2014 23:26    7/1/2014 0:24     173          3481   \n",
       "4  2355128  6/30/2014 23:16  6/30/2014 23:26     173           638   \n",
       "\n",
       "   from_station_id            from_station_name  to_station_id  \\\n",
       "0              131    Lincoln Ave & Belmont Ave            303   \n",
       "1              282      Halsted St & Maxwell St             22   \n",
       "2              327  Sheffield Ave & Webster Ave            225   \n",
       "3              134     Peoria St & Jackson Blvd            194   \n",
       "4              320     Loomis St & Lexington St            134   \n",
       "\n",
       "            to_station_name    usertype  gender  birthyear  \n",
       "0   Broadway & Cornelia Ave  Subscriber    Male     1988.0  \n",
       "1        May St & Taylor St  Subscriber    Male     1992.0  \n",
       "2  Halsted St & Dickens Ave  Subscriber    Male     1993.0  \n",
       "3      State St & Wacker Dr  Subscriber  Female     1988.0  \n",
       "4  Peoria St & Jackson Blvd  Subscriber  Female     1988.0  "
      ]
     },
     "execution_count": 81,
     "metadata": {},
     "output_type": "execute_result"
    }
   ],
   "source": [
    "dataset_2014.head()"
   ]
  },
  {
   "cell_type": "code",
   "execution_count": 82,
   "metadata": {},
   "outputs": [
    {
     "name": "stderr",
     "output_type": "stream",
     "text": [
      "C:\\ProgramData\\Anaconda3\\lib\\site-packages\\ipykernel_launcher.py:8: SettingWithCopyWarning: \n",
      "A value is trying to be set on a copy of a slice from a DataFrame.\n",
      "Try using .loc[row_indexer,col_indexer] = value instead\n",
      "\n",
      "See the caveats in the documentation: http://pandas.pydata.org/pandas-docs/stable/user_guide/indexing.html#returning-a-view-versus-a-copy\n",
      "  \n",
      "C:\\ProgramData\\Anaconda3\\lib\\site-packages\\ipykernel_launcher.py:18: SettingWithCopyWarning: \n",
      "A value is trying to be set on a copy of a slice from a DataFrame.\n",
      "Try using .loc[row_indexer,col_indexer] = value instead\n",
      "\n",
      "See the caveats in the documentation: http://pandas.pydata.org/pandas-docs/stable/user_guide/indexing.html#returning-a-view-versus-a-copy\n",
      "C:\\ProgramData\\Anaconda3\\lib\\site-packages\\ipykernel_launcher.py:26: SettingWithCopyWarning: \n",
      "A value is trying to be set on a copy of a slice from a DataFrame.\n",
      "Try using .loc[row_indexer,col_indexer] = value instead\n",
      "\n",
      "See the caveats in the documentation: http://pandas.pydata.org/pandas-docs/stable/user_guide/indexing.html#returning-a-view-versus-a-copy\n"
     ]
    }
   ],
   "source": [
    "#Features about UserType\n",
    "usertype=[]\n",
    "for user in dataset_2014.usertype:\n",
    "    if user=='Customer':\n",
    "        usertype.append(-1)\n",
    "    elif user=='Subscriber':\n",
    "        usertype.append(1)\n",
    "dataset_2014['usertype']=usertype\n",
    "#Gender male =1, female =-1\n",
    "gendertype = []\n",
    "for gender in dataset_2014.gender:\n",
    "    if gender=='Male':\n",
    "        gendertype.append(1)\n",
    "    elif gender=='Female':\n",
    "        gendertype.append(-1)\n",
    "    else:\n",
    "        gendertype.append(0)\n",
    "dataset_2014['gender']=gendertype\n",
    "#Age\n",
    "age=[]\n",
    "for user,year in zip(dataset_2014.usertype,dataset_2014.birthyear):\n",
    "    if user ==-1:\n",
    "        age.append(0)\n",
    "    elif user==1:\n",
    "        age.append(2014-year)\n",
    "dataset_2014['age']=age\n",
    "    "
   ]
  },
  {
   "cell_type": "code",
   "execution_count": 83,
   "metadata": {},
   "outputs": [
    {
     "name": "stderr",
     "output_type": "stream",
     "text": [
      "C:\\ProgramData\\Anaconda3\\lib\\site-packages\\ipykernel_launcher.py:2: SettingWithCopyWarning: \n",
      "A value is trying to be set on a copy of a slice from a DataFrame.\n",
      "Try using .loc[row_indexer,col_indexer] = value instead\n",
      "\n",
      "See the caveats in the documentation: http://pandas.pydata.org/pandas-docs/stable/user_guide/indexing.html#returning-a-view-versus-a-copy\n",
      "  \n",
      "C:\\ProgramData\\Anaconda3\\lib\\site-packages\\ipykernel_launcher.py:3: SettingWithCopyWarning: \n",
      "A value is trying to be set on a copy of a slice from a DataFrame.\n",
      "Try using .loc[row_indexer,col_indexer] = value instead\n",
      "\n",
      "See the caveats in the documentation: http://pandas.pydata.org/pandas-docs/stable/user_guide/indexing.html#returning-a-view-versus-a-copy\n",
      "  This is separate from the ipykernel package so we can avoid doing imports until\n",
      "C:\\ProgramData\\Anaconda3\\lib\\site-packages\\ipykernel_launcher.py:11: SettingWithCopyWarning: \n",
      "A value is trying to be set on a copy of a slice from a DataFrame.\n",
      "Try using .loc[row_indexer,col_indexer] = value instead\n",
      "\n",
      "See the caveats in the documentation: http://pandas.pydata.org/pandas-docs/stable/user_guide/indexing.html#returning-a-view-versus-a-copy\n",
      "  # This is added back by InteractiveShellApp.init_path()\n",
      "C:\\ProgramData\\Anaconda3\\lib\\site-packages\\ipykernel_launcher.py:12: SettingWithCopyWarning: \n",
      "A value is trying to be set on a copy of a slice from a DataFrame.\n",
      "Try using .loc[row_indexer,col_indexer] = value instead\n",
      "\n",
      "See the caveats in the documentation: http://pandas.pydata.org/pandas-docs/stable/user_guide/indexing.html#returning-a-view-versus-a-copy\n",
      "  if sys.path[0] == '':\n"
     ]
    }
   ],
   "source": [
    "# Features about departure time \n",
    "dataset_2014['starttime'] = pd.to_datetime(dataset_2014['starttime'],infer_datetime_format=True)\n",
    "dataset_2014['month'] = dataset_2014['starttime'].dt.month\n",
    "\n",
    "day=[]\n",
    "for weekday in dataset_2014['starttime'].dt.weekday_name:\n",
    "    if weekday=='Sunday':\n",
    "        day.append(0)\n",
    "    else:\n",
    "        day.append(1)\n",
    "dataset_2014['weekday'] = day\n",
    "dataset_2014['hour'] = dataset_2014['starttime'].dt.hour"
   ]
  },
  {
   "cell_type": "code",
   "execution_count": 84,
   "metadata": {},
   "outputs": [
    {
     "data": {
      "text/plain": [
       "id               int64\n",
       "name            object\n",
       "latitude       float64\n",
       "longitude      float64\n",
       "dpcapacity       int64\n",
       "online date     object\n",
       "dtype: object"
      ]
     },
     "execution_count": 84,
     "metadata": {},
     "output_type": "execute_result"
    }
   ],
   "source": [
    "#Features about Stations\n",
    "stations_2014_Q1_2.dtypes\n",
    "    "
   ]
  },
  {
   "cell_type": "code",
   "execution_count": 85,
   "metadata": {},
   "outputs": [
    {
     "name": "stderr",
     "output_type": "stream",
     "text": [
      "C:\\ProgramData\\Anaconda3\\lib\\site-packages\\ipykernel_launcher.py:1: SettingWithCopyWarning: \n",
      "A value is trying to be set on a copy of a slice from a DataFrame.\n",
      "Try using .loc[row_indexer,col_indexer] = value instead\n",
      "\n",
      "See the caveats in the documentation: http://pandas.pydata.org/pandas-docs/stable/user_guide/indexing.html#returning-a-view-versus-a-copy\n",
      "  \"\"\"Entry point for launching an IPython kernel.\n"
     ]
    }
   ],
   "source": [
    "dataset_2014['station_pair']=list(zip(dataset_2014.from_station_id,dataset_2014.to_station_id))\n",
    "#stations_2014_Q1_2['lat_lon']=list(zip(sta))"
   ]
  },
  {
   "cell_type": "code",
   "execution_count": 86,
   "metadata": {},
   "outputs": [
    {
     "name": "stderr",
     "output_type": "stream",
     "text": [
      "C:\\ProgramData\\Anaconda3\\lib\\site-packages\\ipykernel_launcher.py:9: FutureWarning: `item` has been deprecated and will be removed in a future version\n",
      "  if __name__ == '__main__':\n",
      "C:\\ProgramData\\Anaconda3\\lib\\site-packages\\ipykernel_launcher.py:12: FutureWarning: `item` has been deprecated and will be removed in a future version\n",
      "  if sys.path[0] == '':\n",
      "C:\\ProgramData\\Anaconda3\\lib\\site-packages\\ipykernel_launcher.py:13: SettingWithCopyWarning: \n",
      "A value is trying to be set on a copy of a slice from a DataFrame.\n",
      "Try using .loc[row_indexer,col_indexer] = value instead\n",
      "\n",
      "See the caveats in the documentation: http://pandas.pydata.org/pandas-docs/stable/user_guide/indexing.html#returning-a-view-versus-a-copy\n",
      "  del sys.path[0]\n",
      "C:\\ProgramData\\Anaconda3\\lib\\site-packages\\ipykernel_launcher.py:14: SettingWithCopyWarning: \n",
      "A value is trying to be set on a copy of a slice from a DataFrame.\n",
      "Try using .loc[row_indexer,col_indexer] = value instead\n",
      "\n",
      "See the caveats in the documentation: http://pandas.pydata.org/pandas-docs/stable/user_guide/indexing.html#returning-a-view-versus-a-copy\n",
      "  \n"
     ]
    }
   ],
   "source": [
    "geography = []\n",
    "geography_o = []\n",
    "geography_d = []\n",
    "man_dist = []\n",
    "for origin,destination in zip(dataset_2014.from_station_id,dataset_2014.to_station_id):\n",
    "    org = stations_2014_Q1_2.loc[stations_2014_Q1_2['id'] == origin]\n",
    "    dest = stations_2014_Q1_2.loc[stations_2014_Q1_2['id'] == destination]\n",
    "    \n",
    "    tup = (org.latitude.item(),org.longitude.item(),dest.latitude.item(),dest.longitude.item())\n",
    "    \n",
    "    geography.append(tup)\n",
    "    man_dist.append(distance.cityblock([org.latitude.item(),org.longitude.item()],[dest.latitude.item(),dest.longitude.item()]))\n",
    "dataset_2014['geo'] = geography\n",
    "dataset_2014['man_dist'] = man_dist\n",
    "\n",
    "#dataset_2014.head(5)"
   ]
  },
  {
   "cell_type": "code",
   "execution_count": 154,
   "metadata": {
    "scrolled": true
   },
   "outputs": [
    {
     "name": "stderr",
     "output_type": "stream",
     "text": [
      "C:\\ProgramData\\Anaconda3\\lib\\site-packages\\ipykernel_launcher.py:2: SettingWithCopyWarning: \n",
      "A value is trying to be set on a copy of a slice from a DataFrame.\n",
      "Try using .loc[row_indexer,col_indexer] = value instead\n",
      "\n",
      "See the caveats in the documentation: http://pandas.pydata.org/pandas-docs/stable/user_guide/indexing.html#returning-a-view-versus-a-copy\n",
      "  \n"
     ]
    }
   ],
   "source": [
    "duration_dataset = dataset_2014[['usertype','gender','age','month','weekday','hour','man_dist','tripduration']]\n",
    "duration_dataset['tripduration'] = np.log10(1+duration_dataset.tripduration)"
   ]
  },
  {
   "cell_type": "code",
   "execution_count": 156,
   "metadata": {},
   "outputs": [
    {
     "data": {
      "text/plain": [
       "0      2.781755\n",
       "1      2.421604\n",
       "2      2.103804\n",
       "3      3.541829\n",
       "4      2.805501\n",
       "         ...   \n",
       "995    2.700704\n",
       "996    2.761176\n",
       "997    2.812245\n",
       "998    2.745075\n",
       "999    2.600973\n",
       "Name: tripduration, Length: 1000, dtype: float64"
      ]
     },
     "execution_count": 156,
     "metadata": {},
     "output_type": "execute_result"
    }
   ],
   "source": [
    "#duration_dataset.set_index('station_pair',drop=False)\n",
    "\n",
    "duration_dataset['tripduration']"
   ]
  },
  {
   "cell_type": "code",
   "execution_count": 157,
   "metadata": {},
   "outputs": [],
   "source": [
    "X = duration_dataset.iloc[:,:-1]\n",
    "y = duration_dataset.iloc[:,-1]\n"
   ]
  },
  {
   "cell_type": "code",
   "execution_count": 171,
   "metadata": {},
   "outputs": [
    {
     "name": "stdout",
     "output_type": "stream",
     "text": [
      "R^2: 0.49464647873533063\n",
      "MEan Absolute error  0.14935065078372248\n",
      "Root Mean Squared Error: 0.22199786266244942\n"
     ]
    }
   ],
   "source": [
    "# Import necessary modules\n",
    "from sklearn.linear_model import LinearRegression\n",
    "from sklearn.metrics import mean_squared_error\n",
    "from sklearn.metrics import mean_absolute_error\n",
    "from sklearn.model_selection import train_test_split\n",
    "from sklearn import linear_model\n",
    "from sklearn.metrics import r2_score\n",
    "# Create training and test sets\n",
    "X_train, X_test, y_train, y_test = train_test_split(X, y, test_size = 0.4, random_state=0)\n",
    "\n",
    "clf = linear_model.Lasso(alpha=0.0001)\n",
    "\n",
    "# Fit the regressor to the data\n",
    "clf.fit(X_train, y_train)\n",
    "\n",
    "\n",
    "# Predict on the test data: y_pred\n",
    "y_pred = clf.predict(X_test)\n",
    "\n",
    "# Compute and print R^2 and RMSE\n",
    "print(\"R^2: {}\".format(r2_score(y_test,y_pred)))\n",
    "rmse = np.sqrt(mean_squared_error(y_test, y_pred))\n",
    "print(\"MEan Absolute error \",mean_absolute_error(y_test,y_pred))\n",
    "print(\"Root Mean Squared Error: {}\".format(rmse))"
   ]
  },
  {
   "cell_type": "code",
   "execution_count": 185,
   "metadata": {},
   "outputs": [
    {
     "name": "stdout",
     "output_type": "stream",
     "text": [
      "[18:43:35] WARNING: C:/Jenkins/workspace/xgboost-win64_release_0.90/src/objective/regression_obj.cu:152: reg:linear is now deprecated in favor of reg:squarederror.\n",
      "R^2: -6.166097899189195\n",
      "MEan Absolute error  0.7912803365775227\n"
     ]
    },
    {
     "name": "stderr",
     "output_type": "stream",
     "text": [
      "C:\\ProgramData\\Anaconda3\\lib\\site-packages\\xgboost\\core.py:587: FutureWarning: Series.base is deprecated and will be removed in a future version\n",
      "  if getattr(data, 'base', None) is not None and \\\n"
     ]
    }
   ],
   "source": [
    "#XGBOOST\n",
    "import xgboost as xgb\n",
    "\n",
    "xg_reg = xgb.XGBRegressor(objective ='reg:linear', colsample_bytree = 0.3, learning_rate = 0.1, max_depth = 3, \n",
    "                          reg_alpha = 0.001, n_estimators = 10)\n",
    "\n",
    "xg_reg.fit(X_train,y_train)\n",
    "preds = xg_reg.predict(X_test)\n",
    "\n",
    "print(\"R^2: {}\".format(r2_score(y_test,preds)))\n",
    "\n",
    "print(\"MEan Absolute error \",mean_absolute_error(y_test,preds))\n"
   ]
  },
  {
   "cell_type": "code",
   "execution_count": null,
   "metadata": {},
   "outputs": [],
   "source": []
  }
 ],
 "metadata": {
  "kernelspec": {
   "display_name": "Python 3",
   "language": "python",
   "name": "python3"
  },
  "language_info": {
   "codemirror_mode": {
    "name": "ipython",
    "version": 3
   },
   "file_extension": ".py",
   "mimetype": "text/x-python",
   "name": "python",
   "nbconvert_exporter": "python",
   "pygments_lexer": "ipython3",
   "version": "3.7.2"
  }
 },
 "nbformat": 4,
 "nbformat_minor": 2
}
